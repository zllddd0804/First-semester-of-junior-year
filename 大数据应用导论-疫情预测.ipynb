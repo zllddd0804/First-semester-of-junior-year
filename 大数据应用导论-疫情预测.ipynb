{
 "cells": [
  {
   "cell_type": "code",
   "execution_count": 1,
   "metadata": {},
   "outputs": [
    {
     "data": {
      "text/html": [
       "<div>\n",
       "<style scoped>\n",
       "    .dataframe tbody tr th:only-of-type {\n",
       "        vertical-align: middle;\n",
       "    }\n",
       "\n",
       "    .dataframe tbody tr th {\n",
       "        vertical-align: top;\n",
       "    }\n",
       "\n",
       "    .dataframe thead th {\n",
       "        text-align: right;\n",
       "    }\n",
       "</style>\n",
       "<table border=\"1\" class=\"dataframe\">\n",
       "  <thead>\n",
       "    <tr style=\"text-align: right;\">\n",
       "      <th></th>\n",
       "      <th>date</th>\n",
       "      <th>total_confirm</th>\n",
       "      <th>total_suspect</th>\n",
       "      <th>total_heal</th>\n",
       "      <th>total_dead</th>\n",
       "      <th>total_severe</th>\n",
       "      <th>total_input</th>\n",
       "      <th>today_confirm</th>\n",
       "      <th>today_suspect</th>\n",
       "      <th>today_heal</th>\n",
       "      <th>today_dead</th>\n",
       "      <th>today_severe</th>\n",
       "      <th>today_storeConfirm</th>\n",
       "      <th>today_input</th>\n",
       "      <th>name</th>\n",
       "    </tr>\n",
       "  </thead>\n",
       "  <tbody>\n",
       "    <tr>\n",
       "      <th>0</th>\n",
       "      <td>2020-03-03</td>\n",
       "      <td>1</td>\n",
       "      <td>0</td>\n",
       "      <td>0</td>\n",
       "      <td>0</td>\n",
       "      <td>0</td>\n",
       "      <td>0</td>\n",
       "      <td>1</td>\n",
       "      <td>0.0</td>\n",
       "      <td>0</td>\n",
       "      <td>0</td>\n",
       "      <td>NaN</td>\n",
       "      <td>NaN</td>\n",
       "      <td>NaN</td>\n",
       "      <td>突尼斯</td>\n",
       "    </tr>\n",
       "    <tr>\n",
       "      <th>1</th>\n",
       "      <td>2020-03-08</td>\n",
       "      <td>2</td>\n",
       "      <td>0</td>\n",
       "      <td>0</td>\n",
       "      <td>0</td>\n",
       "      <td>0</td>\n",
       "      <td>0</td>\n",
       "      <td>1</td>\n",
       "      <td>0.0</td>\n",
       "      <td>0</td>\n",
       "      <td>0</td>\n",
       "      <td>0.0</td>\n",
       "      <td>NaN</td>\n",
       "      <td>0.0</td>\n",
       "      <td>突尼斯</td>\n",
       "    </tr>\n",
       "    <tr>\n",
       "      <th>2</th>\n",
       "      <td>2020-03-09</td>\n",
       "      <td>5</td>\n",
       "      <td>0</td>\n",
       "      <td>0</td>\n",
       "      <td>0</td>\n",
       "      <td>0</td>\n",
       "      <td>0</td>\n",
       "      <td>3</td>\n",
       "      <td>0.0</td>\n",
       "      <td>0</td>\n",
       "      <td>0</td>\n",
       "      <td>0.0</td>\n",
       "      <td>NaN</td>\n",
       "      <td>0.0</td>\n",
       "      <td>突尼斯</td>\n",
       "    </tr>\n",
       "    <tr>\n",
       "      <th>3</th>\n",
       "      <td>2020-03-11</td>\n",
       "      <td>7</td>\n",
       "      <td>0</td>\n",
       "      <td>0</td>\n",
       "      <td>0</td>\n",
       "      <td>0</td>\n",
       "      <td>0</td>\n",
       "      <td>2</td>\n",
       "      <td>0.0</td>\n",
       "      <td>0</td>\n",
       "      <td>0</td>\n",
       "      <td>0.0</td>\n",
       "      <td>NaN</td>\n",
       "      <td>0.0</td>\n",
       "      <td>突尼斯</td>\n",
       "    </tr>\n",
       "    <tr>\n",
       "      <th>4</th>\n",
       "      <td>2020-03-12</td>\n",
       "      <td>13</td>\n",
       "      <td>0</td>\n",
       "      <td>0</td>\n",
       "      <td>0</td>\n",
       "      <td>0</td>\n",
       "      <td>0</td>\n",
       "      <td>6</td>\n",
       "      <td>0.0</td>\n",
       "      <td>0</td>\n",
       "      <td>0</td>\n",
       "      <td>0.0</td>\n",
       "      <td>NaN</td>\n",
       "      <td>0.0</td>\n",
       "      <td>突尼斯</td>\n",
       "    </tr>\n",
       "  </tbody>\n",
       "</table>\n",
       "</div>"
      ],
      "text/plain": [
       "         date  total_confirm  total_suspect  total_heal  total_dead  \\\n",
       "0  2020-03-03              1              0           0           0   \n",
       "1  2020-03-08              2              0           0           0   \n",
       "2  2020-03-09              5              0           0           0   \n",
       "3  2020-03-11              7              0           0           0   \n",
       "4  2020-03-12             13              0           0           0   \n",
       "\n",
       "   total_severe  total_input  today_confirm  today_suspect  today_heal  \\\n",
       "0             0            0              1            0.0           0   \n",
       "1             0            0              1            0.0           0   \n",
       "2             0            0              3            0.0           0   \n",
       "3             0            0              2            0.0           0   \n",
       "4             0            0              6            0.0           0   \n",
       "\n",
       "   today_dead  today_severe  today_storeConfirm  today_input name  \n",
       "0           0           NaN                 NaN          NaN  突尼斯  \n",
       "1           0           0.0                 NaN          0.0  突尼斯  \n",
       "2           0           0.0                 NaN          0.0  突尼斯  \n",
       "3           0           0.0                 NaN          0.0  突尼斯  \n",
       "4           0           0.0                 NaN          0.0  突尼斯  "
      ]
     },
     "execution_count": 1,
     "metadata": {},
     "output_type": "execute_result"
    }
   ],
   "source": [
    "import numpy as np\n",
    "import pandas as pd\n",
    "from matplotlib import pyplot as plt\n",
    "from scipy.optimize import curve_fit as curve_fit\n",
    "\n",
    "day1=pd.read_csv('alltime_world_2020_10_12.csv')\n",
    "day1.head()"
   ]
  },
  {
   "cell_type": "code",
   "execution_count": 2,
   "metadata": {},
   "outputs": [
    {
     "data": {
      "text/plain": [
       "206     2\n",
       "207     5\n",
       "208    12\n",
       "209    24\n",
       "210    35\n",
       "Name: total_confirm, dtype: int64"
      ]
     },
     "execution_count": 2,
     "metadata": {},
     "output_type": "execute_result"
    }
   ],
   "source": [
    "day4=day1.loc[day1['name']=='塞尔维亚']\n",
    "day5=day4['total_confirm']\n",
    "day5.head()"
   ]
  },
  {
   "cell_type": "code",
   "execution_count": 3,
   "metadata": {},
   "outputs": [
    {
     "data": {
      "image/png": "[encoded data removed]",
      "text/plain": [
       "<Figure size 432x288 with 1 Axes>"
      ]
     },
     "metadata": {
      "needs_background": "light"
     },
     "output_type": "display_data"
    }
   ],
   "source": [
    "day2=len(day5)\n",
    "xdata=[i+1 for i in range(day2)]\n",
    "ydata=day5\n",
    "plt.scatter(xdata,ydata,label='data')\n",
    "\n",
    "def func(x,k,a,b):\n",
    "    return k/(1+(k/b-1)*np.exp(-a*x))\n",
    "\n",
    "popt,pcov=curve_fit(func,xdata,ydata,method='dogbox', \\\n",
    "                   bounds=([1000.,0.01,10.],[10000000.,1.0,1000.]))\n",
    "k=popt[0]\n",
    "a=popt[1]\n",
    "b=popt[2]\n",
    "\n",
    "day3=100\n",
    "x=np.linspace(0,len(xdata)+day3)\n",
    "y=func(x,*popt)\n",
    "\n",
    "plt.plot(x,y,color='r',label='fit')\n",
    "plt.xlabel('Day')\n",
    "plt.ylabel('Number of Cases')\n",
    "plt.title('A Rough Simulation and Prediction')\n",
    "plt.legend(loc='best')\n",
    "plt.show()"
   ]
  },
  {
   "cell_type": "code",
   "execution_count": 4,
   "metadata": {},
   "outputs": [
    {
     "data": {
      "text/plain": [
       "1113    40\n",
       "1114    43\n",
       "1115    45\n",
       "1116    47\n",
       "1117    50\n",
       "Name: total_confirm, dtype: int64"
      ]
     },
     "execution_count": 4,
     "metadata": {},
     "output_type": "execute_result"
    }
   ],
   "source": [
    "day4=day1.loc[day1['name']=='新加坡']\n",
    "day5=day4['total_confirm']\n",
    "day5.head()"
   ]
  },
  {
   "cell_type": "code",
   "execution_count": 5,
   "metadata": {},
   "outputs": [
    {
     "data": {
      "image/png": "[encoded data removed]",
      "text/plain": [
       "<Figure size 432x288 with 1 Axes>"
      ]
     },
     "metadata": {
      "needs_background": "light"
     },
     "output_type": "display_data"
    }
   ],
   "source": [
    "day2=len(day5)\n",
    "xdata=[i+1 for i in range(day2)]\n",
    "ydata=day5\n",
    "plt.scatter(xdata,ydata,label='data')\n",
    "\n",
    "def func(x,k,a,b):\n",
    "    return k/(1+(k/b-1)*np.exp(-a*x))\n",
    "\n",
    "popt,pcov=curve_fit(func,xdata,ydata,method='dogbox', \\\n",
    "                   bounds=([1000.,0.01,10.],[10000000.,1.0,1000.]))\n",
    "k=popt[0]\n",
    "a=popt[1]\n",
    "b=popt[2]\n",
    "\n",
    "day3=100\n",
    "x=np.linspace(0,len(xdata)+day3)\n",
    "y=func(x,*popt)\n",
    "\n",
    "plt.plot(x,y,color='r',label='fit')\n",
    "plt.xlabel('Day')\n",
    "plt.ylabel('Number of Cases')\n",
    "plt.title('A Rough Simulation and Prediction')\n",
    "plt.legend(loc='best')\n",
    "plt.show()"
   ]
  },
  {
   "cell_type": "code",
   "execution_count": 6,
   "metadata": {},
   "outputs": [
    {
     "data": {
      "text/plain": [
       "2063    14\n",
       "2064    15\n",
       "2065    34\n",
       "2066    53\n",
       "2067    53\n",
       "Name: total_confirm, dtype: int64"
      ]
     },
     "execution_count": 6,
     "metadata": {},
     "output_type": "execute_result"
    }
   ],
   "source": [
    "day4=day1.loc[day1['name']=='美国']\n",
    "day5=day4['total_confirm']\n",
    "day5.head()"
   ]
  },
  {
   "cell_type": "code",
   "execution_count": 7,
   "metadata": {},
   "outputs": [
    {
     "data": {
      "image/png": "[encoded data removed]",
      "text/plain": [
       "<Figure size 432x288 with 1 Axes>"
      ]
     },
     "metadata": {
      "needs_background": "light"
     },
     "output_type": "display_data"
    }
   ],
   "source": [
    "day2=len(day5)\n",
    "xdata=[i+1 for i in range(day2)]\n",
    "ydata=day5\n",
    "plt.scatter(xdata,ydata,label='data')\n",
    "\n",
    "def func(x,k,a,b):\n",
    "    return k/(1+(k/b-1)*np.exp(-a*x))\n",
    "\n",
    "popt,pcov=curve_fit(func,xdata,ydata,method='dogbox', \\\n",
    "                   bounds=([1000.,0.01,10.],[10000000.,1.0,1000.]))\n",
    "k=popt[0]\n",
    "a=popt[1]\n",
    "b=popt[2]\n",
    "\n",
    "day3=100\n",
    "x=np.linspace(0,len(xdata)+day3)\n",
    "y=func(x,*popt)\n",
    "\n",
    "plt.plot(x,y,color='r',label='fit')\n",
    "plt.xlabel('Day')\n",
    "plt.ylabel('Number of Cases')\n",
    "plt.title('A Rough Simulation and Prediction')\n",
    "plt.legend(loc='best')\n",
    "plt.show()"
   ]
  },
  {
   "cell_type": "code",
   "execution_count": 8,
   "metadata": {},
   "outputs": [
    {
     "data": {
      "text/plain": [
       "1835    14\n",
       "1836    16\n",
       "1837    16\n",
       "1838    18\n",
       "1839    26\n",
       "Name: total_confirm, dtype: int64"
      ]
     },
     "execution_count": 8,
     "metadata": {},
     "output_type": "execute_result"
    }
   ],
   "source": [
    "day4=day1.loc[day1['name']=='德国']\n",
    "day5=day4['total_confirm']\n",
    "day5.head()"
   ]
  },
  {
   "cell_type": "code",
   "execution_count": 11,
   "metadata": {},
   "outputs": [
    {
     "data": {
      "image/png": "[encoded data removed]",
      "text/plain": [
       "<Figure size 432x288 with 1 Axes>"
      ]
     },
     "metadata": {
      "needs_background": "light"
     },
     "output_type": "display_data"
    }
   ],
   "source": [
    "day2=len(day5)\n",
    "xdata=[i+1 for i in range(day2)]\n",
    "ydata=day5\n",
    "plt.scatter(xdata,ydata,label='data')\n",
    "\n",
    "def func(x,k,a,b):\n",
    "    return k/(1+(k/b-1)*np.exp(-a*x))\n",
    "\n",
    "popt,pcov=curve_fit(func,xdata,ydata,method='dogbox', \\\n",
    "                   bounds=([1000.,0.01,10.],[10000000.,1.0,1000.]))\n",
    "k=popt[0]\n",
    "a=popt[1]\n",
    "b=popt[2]\n",
    "\n",
    "day3=100\n",
    "x=np.linspace(0,len(xdata)+day3)\n",
    "y=func(x,*popt)\n",
    "\n",
    "plt.plot(x,y,color='r',label='fit')\n",
    "plt.xlabel('Day')\n",
    "plt.ylabel('Number of Cases')\n",
    "plt.title('A Rough Simulation and Prediction')\n",
    "plt.legend(loc='best')\n",
    "plt.show()"
   ]
  }
 ],
 "metadata": {
  "kernelspec": {
   "display_name": "Python 3",
   "language": "python",
   "name": "python3"
  },
  "language_info": {
   "codemirror_mode": {
    "name": "ipython",
    "version": 3
   },
   "file_extension": ".py",
   "mimetype": "text/x-python",
   "name": "python",
   "nbconvert_exporter": "python",
   "pygments_lexer": "ipython3",
   "version": "3.7.6"
  }
 },
 "nbformat": 4,
 "nbformat_minor": 4
}
